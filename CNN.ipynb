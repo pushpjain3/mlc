{
 "cells": [
  {
   "cell_type": "code",
   "execution_count": 1,
   "id": "17635f50",
   "metadata": {},
   "outputs": [],
   "source": [
    "import numpy as np\n",
    "import pandas as pd\n",
    "%matplotlib inline\n",
    "import matplotlib as mpl\n",
    "import matplotlib.pyplot as plt\n",
    "import tensorflow as tf\n",
    "from tensorflow import keras"
   ]
  },
  {
   "cell_type": "code",
   "execution_count": 2,
   "id": "5356652e",
   "metadata": {},
   "outputs": [],
   "source": [
    "#Importing Dataset\n",
    "fashion_mnist = keras.datasets.fashion_mnist\n",
    "(x_train_full,y_train_full),(x_test,y_test) = fashion_mnist.load_data()"
   ]
  },
  {
   "cell_type": "code",
   "execution_count": 3,
   "id": "d3b2d753",
   "metadata": {},
   "outputs": [],
   "source": [
    "class_names=[\"T-shirt/top\",\"Trouser\",\"Pullover\",\"Dress\",\"Coat\",\"Sandal\",\"Shirt\",\"Sneaker\",\"Bag\",\"Ankle boot\"]"
   ]
  },
  {
   "cell_type": "code",
   "execution_count": 4,
   "id": "ca675f7a",
   "metadata": {},
   "outputs": [],
   "source": [
    "#Data Reshape, for cnn we need 3D array\n",
    "x_train_full = x_train_full.reshape((60000,28,28,1)) #(1 is channel, 60000 is number of items)\n",
    "x_test = x_test.reshape((10000,28,28,1))"
   ]
  },
  {
   "cell_type": "code",
   "execution_count": 5,
   "id": "40d78e83",
   "metadata": {},
   "outputs": [],
   "source": [
    "#Data Normalisation\n",
    "x_train_n=x_train_full/255.    #Normalisisng pixel intensity\n",
    "x_test_n=x_test/255."
   ]
  },
  {
   "cell_type": "code",
   "execution_count": 6,
   "id": "dbaedc93",
   "metadata": {},
   "outputs": [],
   "source": [
    "x_valid,x_train=x_train_n[:5000],x_train_n[5000:]    #0-5000 in validation set,5000-60000 in train set\n",
    "y_valid,y_train=y_train_full[:5000],y_train_full[5000:]\n",
    "x_test=x_test_n"
   ]
  },
  {
   "cell_type": "code",
   "execution_count": 7,
   "id": "008d4b0e",
   "metadata": {},
   "outputs": [],
   "source": [
    "#Model Architecture->Replicate same answer every time\n",
    "np.random.seed(42)\n",
    "tf.random.set_seed(42)"
   ]
  },
  {
   "cell_type": "code",
   "execution_count": 8,
   "id": "490445b5",
   "metadata": {},
   "outputs": [],
   "source": [
    "model = keras.models.Sequential()\n",
    "model.add(keras.layers.Conv2D(filters=32,kernel_size =(3,3), strides=1,padding='valid',activation=\"relu\",input_shape=(28,28,1)))#(width,height,channel)\n",
    "model.add(keras.layers.MaxPooling2D((2,2)))          \n",
    "model.add(keras.layers.Flatten())\n",
    "model.add(keras.layers.Dense(300,activation=\"relu\")) #RELU is prefered in hidden layers in classification model\n",
    "model.add(keras.layers.Dense(100,activation=\"relu\")) #2 hidden layers, 100 and 300 are number of neurons\n",
    "model.add(keras.layers.Dense(10,activation=\"softmax\")) #Softmax activation in o/p"
   ]
  },
  {
   "cell_type": "code",
   "execution_count": 9,
   "id": "4429e2d0",
   "metadata": {},
   "outputs": [
    {
     "name": "stdout",
     "output_type": "stream",
     "text": [
      "Model: \"sequential\"\n",
      "_________________________________________________________________\n",
      "Layer (type)                 Output Shape              Param #   \n",
      "=================================================================\n",
      "conv2d (Conv2D)              (None, 26, 26, 32)        320       \n",
      "_________________________________________________________________\n",
      "max_pooling2d (MaxPooling2D) (None, 13, 13, 32)        0         \n",
      "_________________________________________________________________\n",
      "flatten (Flatten)            (None, 5408)              0         \n",
      "_________________________________________________________________\n",
      "dense (Dense)                (None, 300)               1622700   \n",
      "_________________________________________________________________\n",
      "dense_1 (Dense)              (None, 100)               30100     \n",
      "_________________________________________________________________\n",
      "dense_2 (Dense)              (None, 10)                1010      \n",
      "=================================================================\n",
      "Total params: 1,654,130\n",
      "Trainable params: 1,654,130\n",
      "Non-trainable params: 0\n",
      "_________________________________________________________________\n"
     ]
    }
   ],
   "source": [
    "model.summary()"
   ]
  },
  {
   "cell_type": "code",
   "execution_count": 10,
   "id": "d060893a",
   "metadata": {},
   "outputs": [],
   "source": [
    "model.compile(loss=\"sparse_categorical_crossentropy\",optimizer=\"sgd\",metrics=[\"accuracy\"])"
   ]
  },
  {
   "cell_type": "code",
   "execution_count": 12,
   "id": "e7958b26",
   "metadata": {},
   "outputs": [
    {
     "name": "stdout",
     "output_type": "stream",
     "text": [
      "Epoch 1/30\n",
      "860/860 [==============================] - 28s 32ms/step - loss: 0.8766 - accuracy: 0.6990 - val_loss: 0.7514 - val_accuracy: 0.7340\n",
      "Epoch 2/30\n",
      "860/860 [==============================] - 28s 32ms/step - loss: 0.5390 - accuracy: 0.8047 - val_loss: 0.4929 - val_accuracy: 0.8184\n",
      "Epoch 3/30\n",
      "860/860 [==============================] - 28s 33ms/step - loss: 0.4807 - accuracy: 0.8256 - val_loss: 0.9232 - val_accuracy: 0.7088\n",
      "Epoch 4/30\n",
      "860/860 [==============================] - 28s 32ms/step - loss: 0.4436 - accuracy: 0.8416 - val_loss: 0.4176 - val_accuracy: 0.8542\n",
      "Epoch 5/30\n",
      "860/860 [==============================] - 29s 33ms/step - loss: 0.4196 - accuracy: 0.8502 - val_loss: 0.4318 - val_accuracy: 0.8496\n",
      "Epoch 6/30\n",
      "860/860 [==============================] - 28s 33ms/step - loss: 0.3955 - accuracy: 0.8583 - val_loss: 0.3760 - val_accuracy: 0.8714\n",
      "Epoch 7/30\n",
      "860/860 [==============================] - 28s 33ms/step - loss: 0.3780 - accuracy: 0.8659 - val_loss: 0.4047 - val_accuracy: 0.8562\n",
      "Epoch 8/30\n",
      "860/860 [==============================] - 28s 32ms/step - loss: 0.3627 - accuracy: 0.8697 - val_loss: 0.4999 - val_accuracy: 0.8156\n",
      "Epoch 9/30\n",
      "860/860 [==============================] - 28s 33ms/step - loss: 0.3489 - accuracy: 0.8737 - val_loss: 0.3700 - val_accuracy: 0.8692\n",
      "Epoch 10/30\n",
      "860/860 [==============================] - 28s 33ms/step - loss: 0.3368 - accuracy: 0.8787 - val_loss: 0.3816 - val_accuracy: 0.8602\n",
      "Epoch 11/30\n",
      "860/860 [==============================] - 28s 33ms/step - loss: 0.3249 - accuracy: 0.8816 - val_loss: 0.3457 - val_accuracy: 0.8770\n",
      "Epoch 12/30\n",
      "860/860 [==============================] - 27s 32ms/step - loss: 0.3136 - accuracy: 0.8867 - val_loss: 0.3246 - val_accuracy: 0.8860\n",
      "Epoch 13/30\n",
      "860/860 [==============================] - 28s 32ms/step - loss: 0.3062 - accuracy: 0.8890 - val_loss: 0.3319 - val_accuracy: 0.8876\n",
      "Epoch 14/30\n",
      "860/860 [==============================] - 28s 32ms/step - loss: 0.2978 - accuracy: 0.8909 - val_loss: 0.3898 - val_accuracy: 0.8556\n",
      "Epoch 15/30\n",
      "860/860 [==============================] - 28s 32ms/step - loss: 0.2899 - accuracy: 0.8958 - val_loss: 0.3858 - val_accuracy: 0.8608\n",
      "Epoch 16/30\n",
      "860/860 [==============================] - 28s 33ms/step - loss: 0.2833 - accuracy: 0.8969 - val_loss: 0.2962 - val_accuracy: 0.8936\n",
      "Epoch 17/30\n",
      "860/860 [==============================] - 29s 33ms/step - loss: 0.2757 - accuracy: 0.9001 - val_loss: 0.4058 - val_accuracy: 0.8614\n",
      "Epoch 18/30\n",
      "860/860 [==============================] - 28s 33ms/step - loss: 0.2703 - accuracy: 0.9010 - val_loss: 0.3519 - val_accuracy: 0.8744\n",
      "Epoch 19/30\n",
      "860/860 [==============================] - 28s 33ms/step - loss: 0.2641 - accuracy: 0.9041 - val_loss: 0.3042 - val_accuracy: 0.8902\n",
      "Epoch 20/30\n",
      "860/860 [==============================] - 29s 33ms/step - loss: 0.2587 - accuracy: 0.9053 - val_loss: 0.3221 - val_accuracy: 0.8838\n",
      "Epoch 21/30\n",
      "860/860 [==============================] - 28s 32ms/step - loss: 0.2527 - accuracy: 0.9082 - val_loss: 0.2830 - val_accuracy: 0.9010\n",
      "Epoch 22/30\n",
      "860/860 [==============================] - 28s 33ms/step - loss: 0.2472 - accuracy: 0.9093 - val_loss: 0.2867 - val_accuracy: 0.8980\n",
      "Epoch 23/30\n",
      "860/860 [==============================] - 28s 32ms/step - loss: 0.2420 - accuracy: 0.9109 - val_loss: 0.2774 - val_accuracy: 0.9036\n",
      "Epoch 24/30\n",
      "860/860 [==============================] - 28s 32ms/step - loss: 0.2372 - accuracy: 0.9134 - val_loss: 0.2991 - val_accuracy: 0.8920\n",
      "Epoch 25/30\n",
      "860/860 [==============================] - 28s 33ms/step - loss: 0.2327 - accuracy: 0.9151 - val_loss: 0.2906 - val_accuracy: 0.8958\n",
      "Epoch 26/30\n",
      "860/860 [==============================] - 28s 33ms/step - loss: 0.2289 - accuracy: 0.9160 - val_loss: 0.2768 - val_accuracy: 0.9038\n",
      "Epoch 27/30\n",
      "860/860 [==============================] - 27s 32ms/step - loss: 0.2248 - accuracy: 0.9178 - val_loss: 0.2760 - val_accuracy: 0.9004\n",
      "Epoch 28/30\n",
      "860/860 [==============================] - 27s 32ms/step - loss: 0.2202 - accuracy: 0.9189 - val_loss: 0.3078 - val_accuracy: 0.8926\n",
      "Epoch 29/30\n",
      "860/860 [==============================] - 27s 32ms/step - loss: 0.2150 - accuracy: 0.9209 - val_loss: 0.2703 - val_accuracy: 0.9036\n",
      "Epoch 30/30\n",
      "860/860 [==============================] - 28s 32ms/step - loss: 0.2120 - accuracy: 0.9222 - val_loss: 0.2702 - val_accuracy: 0.9040\n"
     ]
    }
   ],
   "source": [
    "model_history = model.fit(x_train,y_train,epochs=30,batch_size=64,validation_data=(x_valid,y_valid))"
   ]
  },
  {
   "cell_type": "code",
   "execution_count": 13,
   "id": "095df0b4",
   "metadata": {},
   "outputs": [
    {
     "data": {
      "image/png": "[encoded data removed]",
      "text/plain": [
       "<Figure size 576x360 with 1 Axes>"
      ]
     },
     "metadata": {
      "needs_background": "light"
     },
     "output_type": "display_data"
    }
   ],
   "source": [
    "pd.DataFrame(model_history.history).plot(figsize=(8,5))\n",
    "plt.grid(True)\n",
    "plt.gca().set_ylim(0,1)\n",
    "plt.show()"
   ]
  },
  {
   "cell_type": "code",
   "execution_count": 14,
   "id": "a18a900a",
   "metadata": {},
   "outputs": [
    {
     "name": "stdout",
     "output_type": "stream",
     "text": [
      "313/313 [==============================] - 3s 9ms/step - loss: 0.2812 - accuracy: 0.8987\n"
     ]
    },
    {
     "data": {
      "text/plain": [
       "[0.28120481967926025, 0.8986999988555908]"
      ]
     },
     "execution_count": 14,
     "metadata": {},
     "output_type": "execute_result"
    }
   ],
   "source": [
    "ev = model.evaluate(x_test_n,y_test)\n",
    "ev"
   ]
  },
  {
   "cell_type": "code",
   "execution_count": 15,
   "id": "708b53d0",
   "metadata": {},
   "outputs": [],
   "source": [
    "x_new = x_test[:3]"
   ]
  },
  {
   "cell_type": "code",
   "execution_count": 16,
   "id": "7a1c9aaa",
   "metadata": {},
   "outputs": [
    {
     "data": {
      "text/plain": [
       "array([9, 2, 1], dtype=uint8)"
      ]
     },
     "execution_count": 16,
     "metadata": {},
     "output_type": "execute_result"
    }
   ],
   "source": [
    "y_test[:3]"
   ]
  },
  {
   "cell_type": "code",
   "execution_count": 17,
   "id": "170b082f",
   "metadata": {},
   "outputs": [
    {
     "name": "stdout",
     "output_type": "stream",
     "text": [
      "AxesImage(54,36;334.8x217.44)\n"
     ]
    },
    {
     "data": {
      "image/png": "[encoded data removed]",
      "text/plain": [
       "<Figure size 432x288 with 1 Axes>"
      ]
     },
     "metadata": {
      "needs_background": "light"
     },
     "output_type": "display_data"
    }
   ],
   "source": [
    "print(plt.imshow(x_test[0].reshape((28,28)))) #9 is equivalent to ankle boot (x_test[0])"
   ]
  },
  {
   "cell_type": "code",
   "execution_count": 18,
   "id": "d538b8ff",
   "metadata": {},
   "outputs": [],
   "source": [
    "keras.backend.clear_session\n",
    "del model"
   ]
  },
  {
   "cell_type": "code",
   "execution_count": null,
   "id": "038e7c76",
   "metadata": {},
   "outputs": [],
   "source": []
  }
 ],
 "metadata": {
  "kernelspec": {
   "display_name": "Python 3 (ipykernel)",
   "language": "python",
   "name": "python3"
  },
  "language_info": {
   "codemirror_mode": {
    "name": "ipython",
    "version": 3
   },
   "file_extension": ".py",
   "mimetype": "text/x-python",
   "name": "python",
   "nbconvert_exporter": "python",
   "pygments_lexer": "ipython3",
   "version": "3.10.0"
  }
 },
 "nbformat": 4,
 "nbformat_minor": 5
}
